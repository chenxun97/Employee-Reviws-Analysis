{
 "cells": [
  {
   "cell_type": "code",
   "execution_count": 1,
   "metadata": {},
   "outputs": [],
   "source": [
    "import requests\n",
    "import bs4\n",
    "from bs4 import BeautifulSoup\n",
    "import pandas as pd\n",
    "import time"
   ]
  },
  {
   "cell_type": "code",
   "execution_count": 2,
   "metadata": {},
   "outputs": [],
   "source": [
    "def extract_review(soup): \n",
    "    reviews = []\n",
    "    for div in soup.find_all(name=\"div\", attrs={\"class\":\"cmp-Review-text\"}):\n",
    "        review = div.find_all(name=\"span\", attrs={\"class\":'cmp-NewLineToBr-text'})\n",
    "        if len(review) > 0:\n",
    "            for b in review:\n",
    "                b_text = b.text.strip()\n",
    "                if len(b_text) > 0:\n",
    "                    reviews.append(b_text)\n",
    "    return reviews"
   ]
  },
  {
   "cell_type": "code",
   "execution_count": null,
   "metadata": {},
   "outputs": [],
   "source": [
    "review_list = []\n",
    "\n",
    "for i in range(0, 200, 20):\n",
    "    URL = \"https://www.indeed.com/cmp/Aventura-Hospital-and-Medical-Center/reviews\" + \"?start=\" + str(i)\n",
    "    page = requests.get(URL)\n",
    "    soup = BeautifulSoup(page.text, \"html.parser\")\n",
    "    review_list = review_list + extract_review(soup)"
   ]
  },
  {
   "cell_type": "code",
   "execution_count": null,
   "metadata": {},
   "outputs": [],
   "source": [
    "review_list = list(set(review_list))\n",
    "print(review_list)\n",
    "print(len(review_list))"
   ]
  },
  {
   "cell_type": "code",
   "execution_count": null,
   "metadata": {},
   "outputs": [],
   "source": [
    "df = pd.DataFrame(review_list)\n",
    "df.to_excel('output.xlsx', header=False, index=False)"
   ]
  },
  {
   "cell_type": "code",
   "execution_count": null,
   "metadata": {},
   "outputs": [],
   "source": []
  }
 ],
 "metadata": {
  "kernelspec": {
   "display_name": "Python 3",
   "language": "python",
   "name": "python3"
  },
  "language_info": {
   "codemirror_mode": {
    "name": "ipython",
    "version": 3
   },
   "file_extension": ".py",
   "mimetype": "text/x-python",
   "name": "python",
   "nbconvert_exporter": "python",
   "pygments_lexer": "ipython3",
   "version": "3.7.8"
  }
 },
 "nbformat": 4,
 "nbformat_minor": 4
}
